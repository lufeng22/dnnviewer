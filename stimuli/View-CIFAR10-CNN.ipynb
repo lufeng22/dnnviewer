{
 "cells": [
  {
   "cell_type": "markdown",
   "metadata": {},
   "source": [
    "# View a CNN for CIFAR-10 classification"
   ]
  },
  {
   "cell_type": "code",
   "execution_count": 12,
   "metadata": {},
   "outputs": [],
   "source": [
    "import sys\n",
    "from tensorflow import keras\n",
    "import plotly.graph_objects as go\n",
    "from ipywidgets import widgets\n",
    "import numpy as np"
   ]
  },
  {
   "cell_type": "code",
   "execution_count": 6,
   "metadata": {},
   "outputs": [],
   "source": [
    "from dnnviewer.Grapher import Grapher\n",
    "from dnnviewer.TestData import TestData\n",
    "import dnnviewer.layers\n",
    "import dnnviewer.bridge.tensorflow as tf_bridge\n",
    "from dnnviewer.bridge.tensorflow_datasets import load_test_data\n",
    "from dnnviewer.bridge.KerasNetworkExtractor import KerasNetworkExtractor"
   ]
  },
  {
   "cell_type": "markdown",
   "metadata": {},
   "source": [
    "# Load model"
   ]
  },
  {
   "cell_type": "code",
   "execution_count": 9,
   "metadata": {},
   "outputs": [
    {
     "name": "stdout",
     "output_type": "stream",
     "text": [
      "Model: \"sequential\"\n",
      "_________________________________________________________________\n",
      "Layer (type)                 Output Shape              Param #   \n",
      "=================================================================\n",
      "conv_0 (Conv2D)              (None, 30, 30, 32)        896       \n",
      "_________________________________________________________________\n",
      "max_pooling2d (MaxPooling2D) (None, 15, 15, 32)        0         \n",
      "_________________________________________________________________\n",
      "conv_1 (Conv2D)              (None, 13, 13, 64)        18496     \n",
      "_________________________________________________________________\n",
      "max_pooling2d_1 (MaxPooling2 (None, 6, 6, 64)          0         \n",
      "_________________________________________________________________\n",
      "conv_2 (Conv2D)              (None, 4, 4, 64)          36928     \n",
      "_________________________________________________________________\n",
      "flatten (Flatten)            (None, 1024)              0         \n",
      "_________________________________________________________________\n",
      "dropout (Dropout)            (None, 1024)              0         \n",
      "_________________________________________________________________\n",
      "dense_0 (Dense)              (None, 64)                65600     \n",
      "_________________________________________________________________\n",
      "dense_1 (Dense)              (None, 10)                650       \n",
      "=================================================================\n",
      "Total params: 122,570\n",
      "Trainable params: 122,570\n",
      "Non-trainable params: 0\n",
      "_________________________________________________________________\n"
     ]
    }
   ],
   "source": [
    "model0 = keras.models.load_model('../dnnviewer-data/models/CIFAR-10_CNN5.h5')\n",
    "model0.summary()"
   ]
  },
  {
   "cell_type": "markdown",
   "metadata": {},
   "source": [
    "# Grapher test"
   ]
  },
  {
   "cell_type": "code",
   "execution_count": 21,
   "metadata": {},
   "outputs": [],
   "source": [
    "test_data = TestData()\n",
    "load_test_data('cifar10', test_data)\n",
    "test_data.x_format = tf_bridge.keras_prepare_input(model0.input.dtype.as_numpy_dtype, [None, 32, 32, 3], test_data.x)"
   ]
  },
  {
   "cell_type": "code",
   "execution_count": 22,
   "metadata": {},
   "outputs": [
    {
     "data": {
      "application/vnd.jupyter.widget-view+json": {
       "model_id": "5822c9b57c0a4325a6f9a0b7447ca491",
       "version_major": 2,
       "version_minor": 0
      },
      "text/plain": [
       "VBox(children=(HBox(children=(IntSlider(value=3, continuous_update=False, description='Top N:', max=4, min=1),…"
      ]
     },
     "metadata": {},
     "output_type": "display_data"
    }
   ],
   "source": [
    "fig_widget = go.FigureWidget()\n",
    "fig_widget.update_layout(margin=dict(l=10, r=10, b=10, t=10))\n",
    "\n",
    "grapher = Grapher()\n",
    "\n",
    "# Create all other layers from the Keras Sequential model\n",
    "extractor = KerasNetworkExtractor(grapher, model0, test_data)\n",
    "extractor.process()\n",
    "\n",
    "topn = widgets.IntSlider(\n",
    "    value=3.0,\n",
    "    min=1.0,\n",
    "    max=4.0,\n",
    "    step=1.0,\n",
    "    description='Top N:',\n",
    "    continuous_update=False\n",
    ")\n",
    "\n",
    "grapher.plot_layers(fig_widget)\n",
    "grapher.plot_topn_connections(fig_widget, topn.value, 2, 10)\n",
    "\n",
    "def set_topn(change):\n",
    "    with fig_widget.batch_update():\n",
    "        grapher.plot_topn_connections(fig_widget, topn.value, grapher.layers[2], 10)\n",
    "      \n",
    "topn.observe(set_topn, names='value')\n",
    "\n",
    "fig_widget.update_layout(barmode='overlay')\n",
    "top_bar = widgets.HBox(children=[topn])\n",
    "main_widget = widgets.VBox([top_bar, fig_widget])\n",
    "\n",
    "main_widget"
   ]
  },
  {
   "cell_type": "code",
   "execution_count": null,
   "metadata": {},
   "outputs": [],
   "source": [
    "l = model0.layers[7]\n",
    "l"
   ]
  },
  {
   "cell_type": "code",
   "execution_count": null,
   "metadata": {},
   "outputs": [],
   "source": [
    "len(l.get_weights())"
   ]
  },
  {
   "cell_type": "code",
   "execution_count": null,
   "metadata": {},
   "outputs": [],
   "source": []
  }
 ],
 "metadata": {
  "kernelspec": {
   "display_name": "Python 3",
   "language": "python",
   "name": "python3"
  },
  "language_info": {
   "codemirror_mode": {
    "name": "ipython",
    "version": 3
   },
   "file_extension": ".py",
   "mimetype": "text/x-python",
   "name": "python",
   "nbconvert_exporter": "python",
   "pygments_lexer": "ipython3",
   "version": "3.7.6"
  }
 },
 "nbformat": 4,
 "nbformat_minor": 4
}
